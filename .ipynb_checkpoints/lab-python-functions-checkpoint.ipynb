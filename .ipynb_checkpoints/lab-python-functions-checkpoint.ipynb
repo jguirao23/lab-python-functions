{
 "cells": [
  {
   "cell_type": "markdown",
   "id": "25d7736c-ba17-4aff-b6bb-66eba20fbf4e",
   "metadata": {},
   "source": [
    "# Lab | Functions"
   ]
  },
  {
   "cell_type": "markdown",
   "id": "0c581062-8967-4d93-b06e-62833222f930",
   "metadata": {
    "tags": []
   },
   "source": [
    "## Exercise: Managing Customer Orders with Functions\n",
    "\n",
    "In the previous exercise, you improved the code for managing customer orders by using loops and flow control. Now, let's take it a step further and refactor the code by introducing functions.\n",
    "\n",
    "Follow the steps below to complete the exercise:\n",
    "\n",
    "1. Define a function named `initialize_inventory` that takes `products` as a parameter. Inside the function, implement the code for initializing the inventory dictionary using a loop and user input.\n",
    "\n",
    "2. Define a function named `get_customer_orders` that takes no parameters. Inside the function, implement the code for prompting the user to enter the product names using a loop. The function should return the `customer_orders` set.\n",
    "\n",
    "3. Define a function named `update_inventory` that takes `customer_orders` and `inventory` as parameters. Inside the function, implement the code for updating the inventory dictionary based on the customer orders.\n",
    "\n",
    "4. Define a function named `calculate_order_statistics` that takes `customer_orders` and `products` as parameters. Inside the function, implement the code for calculating the order statistics (total products ordered, and percentage of unique products ordered). The function should return these values.\n",
    "\n",
    "5. Define a function named `print_order_statistics` that takes `order_statistics` as a parameter. Inside the function, implement the code for printing the order statistics.\n",
    "\n",
    "6. Define a function named `print_updated_inventory` that takes `inventory` as a parameter. Inside the function, implement the code for printing the updated inventory.\n",
    "\n",
    "7. Call the functions in the appropriate sequence to execute the program and manage customer orders.\n",
    "\n",
    "Hints for functions:\n",
    "\n",
    "- Consider the input parameters required for each function and their return values.\n",
    "- Utilize function parameters and return values to transfer data between functions.\n",
    "- Test your functions individually to ensure they work correctly.\n",
    "\n",
    "\n"
   ]
  },
  {
   "cell_type": "code",
   "execution_count": 10,
   "id": "82dfba9d",
   "metadata": {},
   "outputs": [],
   "source": [
    "products = [\"t-shirt\", \"mug\", \"hat\", \"book\", \"keychain\"] \n",
    "inventory = {}"
   ]
  },
  {
   "cell_type": "code",
   "execution_count": 11,
   "id": "e0faa0fb",
   "metadata": {},
   "outputs": [],
   "source": [
    "# Q1\n",
    "def initialize_inventory(products): \n",
    "    for i in range(len(products)):  \n",
    "        key = products[i]\n",
    "        value = int(input('Please enter the quantity of ' + key + ' available: '))\n",
    "        inventory[key] = value\n",
    "    return inventory"
   ]
  },
  {
   "cell_type": "code",
   "execution_count": 12,
   "id": "0bf67fa9",
   "metadata": {},
   "outputs": [
    {
     "name": "stdout",
     "output_type": "stream",
     "text": [
      "Please enter the quantity of t-shirt available: 14\n",
      "Please enter the quantity of mug available: 8\n",
      "Please enter the quantity of hat available: 5\n",
      "Please enter the quantity of book available: 7\n",
      "Please enter the quantity of keychain available: 6\n"
     ]
    },
    {
     "data": {
      "text/plain": [
       "{'t-shirt': 14, 'mug': 8, 'hat': 5, 'book': 7, 'keychain': 6}"
      ]
     },
     "execution_count": 12,
     "metadata": {},
     "output_type": "execute_result"
    }
   ],
   "source": [
    "initialize_inventory(products)"
   ]
  },
  {
   "cell_type": "code",
   "execution_count": 13,
   "id": "d9cacb96",
   "metadata": {},
   "outputs": [],
   "source": [
    "# Q2\n",
    "customer_orders = set()\n",
    "\n",
    "def get_customer_orders():\n",
    "    customer_orders.add(input('Please enter the product you want to order: '))\n",
    "\n",
    "    ask_product = \"yes\"\n",
    "\n",
    "    while ask_product == \"yes\":\n",
    "        question = input(\"Do you want to order another product? \")\n",
    "        if question == \"yes\":\n",
    "            customer_orders.add(input('Please enter the product you want to order: '))\n",
    "        elif question == \"no\":\n",
    "            ask_product = \"no\"\n",
    "        else:\n",
    "            print(\"Please write yes/sno\")\n",
    "    return customer_orders"
   ]
  },
  {
   "cell_type": "code",
   "execution_count": 14,
   "id": "e8d55853",
   "metadata": {},
   "outputs": [
    {
     "name": "stdout",
     "output_type": "stream",
     "text": [
      "Please enter the product you want to order: mug\n",
      "Do you want to order another product? yes\n",
      "Please enter the product you want to order: book\n",
      "Do you want to order another product? yes\n",
      "Please enter the product you want to order: hat\n",
      "Do you want to order another product? no\n"
     ]
    },
    {
     "data": {
      "text/plain": [
       "{'book', 'hat', 'mug'}"
      ]
     },
     "execution_count": 14,
     "metadata": {},
     "output_type": "execute_result"
    }
   ],
   "source": [
    "get_customer_orders()"
   ]
  },
  {
   "cell_type": "code",
   "execution_count": 15,
   "id": "b7bb5c96",
   "metadata": {},
   "outputs": [],
   "source": [
    "# Q3\n",
    "\n",
    "def update_inventory(customer_orders, inventory):\n",
    "    for item in list(customer_orders):\n",
    "        if item in inventory:\n",
    "            inventory[item] -= 1\n",
    "    return inventory\n",
    "    "
   ]
  },
  {
   "cell_type": "code",
   "execution_count": 16,
   "id": "940eb623",
   "metadata": {},
   "outputs": [
    {
     "data": {
      "text/plain": [
       "{'t-shirt': 14, 'mug': 7, 'hat': 4, 'book': 6, 'keychain': 6}"
      ]
     },
     "execution_count": 16,
     "metadata": {},
     "output_type": "execute_result"
    }
   ],
   "source": [
    "update_inventory(customer_orders, inventory)"
   ]
  },
  {
   "cell_type": "code",
   "execution_count": 50,
   "id": "be94fd36",
   "metadata": {},
   "outputs": [],
   "source": [
    "# Q4\n",
    "\n",
    "total_products_ordered = len(customer_orders)\n",
    "percentage_ordered = (total_products_ordered) / sum(inventory.values())\n",
    "percentage_ordered = \"{:.2%}\".format(percentage_ordered)\n",
    "order_statistics = (total_products_ordered, percentage_ordered)\n",
    "\n",
    "def calculate_order_statistics(customer_orders, products):\n",
    "    #total_products_ordered = len(customer_orders)\n",
    "    #percentage_ordered = (total_products_ordered) / sum(inventory.values())\n",
    "    #percentage_ordered = \"{:.2%}\".format(percentage_ordered)\n",
    "    #order_statistics = (total_products_ordered, percentage_ordered)\n",
    "                          \n",
    "    return total_products_ordered, percentage_ordered"
   ]
  },
  {
   "cell_type": "code",
   "execution_count": 48,
   "id": "8d07a3a0",
   "metadata": {},
   "outputs": [
    {
     "data": {
      "text/plain": [
       "(3, '8.11%')"
      ]
     },
     "execution_count": 48,
     "metadata": {},
     "output_type": "execute_result"
    }
   ],
   "source": [
    "calculate_order_statistics(customer_orders, products)"
   ]
  },
  {
   "cell_type": "code",
   "execution_count": 53,
   "id": "1295297c",
   "metadata": {},
   "outputs": [],
   "source": [
    "# Q5\n",
    "\n",
    "def print_order_statistics(order_statistics):\n",
    "    #order_statistics = (total_products_ordered, percentage_ordered)\n",
    "    return order_statistics\n"
   ]
  },
  {
   "cell_type": "code",
   "execution_count": 54,
   "id": "b5e498b1",
   "metadata": {},
   "outputs": [
    {
     "data": {
      "text/plain": [
       "(3, '8.11%')"
      ]
     },
     "execution_count": 54,
     "metadata": {},
     "output_type": "execute_result"
    }
   ],
   "source": [
    "print_order_statistics(order_statistics)"
   ]
  },
  {
   "cell_type": "code",
   "execution_count": 57,
   "id": "0f62e8a0",
   "metadata": {},
   "outputs": [],
   "source": [
    "# Q6\n",
    "\n",
    "def print_updated_inventory(inventory):\n",
    "    return inventory\n"
   ]
  },
  {
   "cell_type": "code",
   "execution_count": 58,
   "id": "641fc373",
   "metadata": {},
   "outputs": [
    {
     "data": {
      "text/plain": [
       "{'t-shirt': 14, 'mug': 7, 'hat': 4, 'book': 6, 'keychain': 6}"
      ]
     },
     "execution_count": 58,
     "metadata": {},
     "output_type": "execute_result"
    }
   ],
   "source": [
    "print_updated_inventory(inventory)"
   ]
  }
 ],
 "metadata": {
  "kernelspec": {
   "display_name": "Python 3 (ipykernel)",
   "language": "python",
   "name": "python3"
  },
  "language_info": {
   "codemirror_mode": {
    "name": "ipython",
    "version": 3
   },
   "file_extension": ".py",
   "mimetype": "text/x-python",
   "name": "python",
   "nbconvert_exporter": "python",
   "pygments_lexer": "ipython3",
   "version": "3.10.9"
  }
 },
 "nbformat": 4,
 "nbformat_minor": 5
}
